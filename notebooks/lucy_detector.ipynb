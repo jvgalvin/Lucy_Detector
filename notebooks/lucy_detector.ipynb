{
 "cells": [
  {
   "cell_type": "code",
   "execution_count": 24,
   "metadata": {},
   "outputs": [],
   "source": [
    "import os\n",
    "from glob import glob\n",
    "import shutil\n",
    "\n",
    "from PIL import Image \n",
    "\n",
    "from sklearn.model_selection import train_test_split\n",
    "\n",
    "import tensorflow as tf\n",
    "\n",
    "from tensorflow import keras\n",
    "from tensorflow.keras.models import Model\n",
    "from tensorflow.keras.layers import Input, Flatten, Dense, Dropout, GlobalAveragePooling2D\n",
    "from tensorflow.keras.applications.resnet50 import ResNet50\n",
    "from tensorflow.keras.preprocessing import image\n",
    "\n",
    "import pandas as pd\n",
    "import numpy as np\n",
    "import math\n",
    "import matplotlib.pyplot as plt\n",
    "%matplotlib inline"
   ]
  },
  {
   "cell_type": "markdown",
   "metadata": {},
   "source": [
    "## Data Preprocessing"
   ]
  },
  {
   "cell_type": "markdown",
   "metadata": {},
   "source": [
    "### Split Data into Train and Test Sets"
   ]
  },
  {
   "cell_type": "code",
   "execution_count": 25,
   "metadata": {},
   "outputs": [],
   "source": [
    "# Convert .JPG and .jpg files to .jpeg\n",
    "# This assumes that image files and xml annotations are in the same folder named \"images\"\n",
    "\n",
    "path = \"/Users/johngalvin/Desktop/GitHub/Lucy_Detector/data/images\"\n",
    "for file in os.listdir(path):\n",
    "    if file.endswith(\".JPG\") or file.endswith(\".jpg\"):\n",
    "        img = Image.open(path + \"/\" + file)\n",
    "        file_name, file_ext = os.path.splitext(file)\n",
    "        new_name = file_name + \".jpeg\"\n",
    "        img.save(path + \"/\" + new_name)\n",
    "        \n",
    "# Delete the .JPG and.jpg files\n",
    "\n",
    "for file in os.listdir(path):\n",
    "    if file.endswith(\".JPG\") or file.endswith(\".jpg\"):\n",
    "        path_to_file = os.path.join(\"/Users/johngalvin/Desktop/GitHub/Lucy_Detector/data/images/\", file)\n",
    "        os.remove(path_to_file)"
   ]
  },
  {
   "cell_type": "code",
   "execution_count": 26,
   "metadata": {},
   "outputs": [],
   "source": [
    "# Generate a list of the image files\n",
    "image_files = glob(\"/Users/johngalvin/Desktop/GitHub/Lucy_Detector/data/images/*.jpeg\")\n",
    "\n",
    "# Strip the extensions\n",
    "image_names = [name.replace(\".jpeg\",\"\") for name in image_files]\n",
    "\n",
    "# Split into train and test\n",
    "train_names, test_names = train_test_split(image_names, test_size=0.2)\n",
    "\n",
    "def batch_move_files(file_list, source_path, destination_path):\n",
    "    \"\"\"Moves the jpeg and xml file pairs to destination path from source path\"\"\"\n",
    "    \n",
    "    for file in file_list:\n",
    "        image = file + \".jpeg\"\n",
    "        xml = file + \".xml\"\n",
    "        shutil.move(os.path.join(source_path, image), destination_path)\n",
    "        shutil.move(os.path.join(source_path, xml), destination_path)\n",
    "    return\n",
    "\n",
    "# Move the files - assumes empty train and test directories at the images directory level\n",
    "\n",
    "source_dir = \"/Users/johngalvin/Desktop/GitHub/Lucy_Detector/data/images/\"\n",
    "test_dir = \"/Users/johngalvin/Desktop/GitHub/Lucy_Detector/data/test/\"\n",
    "train_dir = \"/Users/johngalvin/Desktop/GitHub/Lucy_Detector/data/train/\"\n",
    "batch_move_files(test_names, source_dir, test_dir)\n",
    "batch_move_files(train_names, source_dir, train_dir)"
   ]
  },
  {
   "cell_type": "markdown",
   "metadata": {},
   "source": [
    "### Generate CSV Files from XML"
   ]
  },
  {
   "cell_type": "code",
   "execution_count": 27,
   "metadata": {},
   "outputs": [
    {
     "name": "stdout",
     "output_type": "stream",
     "text": [
      "Successfully converted xml to csv.\n"
     ]
    }
   ],
   "source": [
    "%run /Users/johngalvin/Desktop/GitHub/Lucy_Detector/scripts/xml_to_csv.py"
   ]
  },
  {
   "cell_type": "code",
   "execution_count": 28,
   "metadata": {},
   "outputs": [
    {
     "name": "stderr",
     "output_type": "stream",
     "text": [
      "/var/folders/xt/wkt538cx4tbf_ssfzkgm44z40000gn/T/ipykernel_34862/1394855140.py:4: FutureWarning: The default value of regex will change from True to False in a future version.\n",
      "  train_df[\"filename\"] = train_df[\"filename\"].str.replace(\".jpg\", \".jpeg\")\n",
      "/var/folders/xt/wkt538cx4tbf_ssfzkgm44z40000gn/T/ipykernel_34862/1394855140.py:5: FutureWarning: The default value of regex will change from True to False in a future version.\n",
      "  train_df[\"filename\"] = train_df[\"filename\"].str.replace(\".JPG\", \".jpeg\")\n",
      "/var/folders/xt/wkt538cx4tbf_ssfzkgm44z40000gn/T/ipykernel_34862/1394855140.py:9: FutureWarning: The default value of regex will change from True to False in a future version.\n",
      "  test_df[\"filename\"] = test_df[\"filename\"].str.replace(\".jpg\", \".jpeg\")\n",
      "/var/folders/xt/wkt538cx4tbf_ssfzkgm44z40000gn/T/ipykernel_34862/1394855140.py:10: FutureWarning: The default value of regex will change from True to False in a future version.\n",
      "  test_df[\"filename\"] = test_df[\"filename\"].str.replace(\".JPG\", \".jpeg\")\n"
     ]
    }
   ],
   "source": [
    "# Change .JPG and .jpg to .jpeg within csv files\n",
    "\n",
    "train_df = pd.read_csv(\"/Users/johngalvin/Desktop/GitHub/Lucy_Detector/data/train_labels.csv\")\n",
    "train_df[\"filename\"] = train_df[\"filename\"].str.replace(\".jpg\", \".jpeg\")\n",
    "train_df[\"filename\"] = train_df[\"filename\"].str.replace(\".JPG\", \".jpeg\")\n",
    "train_df.to_csv(\"/Users/johngalvin/Desktop/GitHub/Lucy_Detector/data/train_labels.csv\")\n",
    "\n",
    "test_df = pd.read_csv(\"/Users/johngalvin/Desktop/GitHub/Lucy_Detector/data/test_labels.csv\")\n",
    "test_df[\"filename\"] = test_df[\"filename\"].str.replace(\".jpg\", \".jpeg\")\n",
    "test_df[\"filename\"] = test_df[\"filename\"].str.replace(\".JPG\", \".jpeg\")\n",
    "test_df.to_csv(\"/Users/johngalvin/Desktop/GitHub/Lucy_Detector/data/test_labels.csv\")"
   ]
  },
  {
   "cell_type": "markdown",
   "metadata": {},
   "source": [
    "### Generate the TFRecords"
   ]
  },
  {
   "cell_type": "code",
   "execution_count": 29,
   "metadata": {},
   "outputs": [
    {
     "name": "stdout",
     "output_type": "stream",
     "text": [
      "/Users/johngalvin/Desktop/GitHub/Lucy_Detector\n",
      "Successfully created the TFRecords: /Users/johngalvin/Desktop/GitHub/Lucy_Detector/data/train.record\n",
      "Successfully created the TFRecords: /Users/johngalvin/Desktop/GitHub/Lucy_Detector/data/test.record\n"
     ]
    }
   ],
   "source": [
    "%cd /Users/johngalvin/Desktop/GitHub/Lucy_Detector/\n",
    "!python generate_tfrecord.py --csv_input=/Users/johngalvin/Desktop/GitHub/Lucy_Detector/data/train_labels.csv --output_path=/Users/johngalvin/Desktop/GitHub/Lucy_Detector/data/train.record --image_dir=/Users/johngalvin/Desktop/GitHub/Lucy_Detector/data/train/\n",
    "!python generate_tfrecord.py --csv_input=/Users/johngalvin/Desktop/GitHub/Lucy_Detector/data/test_labels.csv --output_path=/Users/johngalvin/Desktop/GitHub/Lucy_Detector/data/test.record --image_dir=/Users/johngalvin/Desktop/GitHub/Lucy_Detector/data/test/"
   ]
  },
  {
   "cell_type": "markdown",
   "metadata": {},
   "source": [
    "### Instantiate the Model"
   ]
  },
  {
   "cell_type": "code",
   "execution_count": null,
   "metadata": {},
   "outputs": [],
   "source": [
    "# Create the base model\n",
    "\n",
    "base_model = ResNet50(include_top=False,\n",
    "                      weights=\"imagenet\",\n",
    "                      classifier_activation=\"softmax\",\n",
    "                      input_shape=(IMG_WIDTH, IMG_HEIGHT, 3))\n",
    "\n",
    "# Freeze layers\n",
    "\n",
    "for layer in base_model.layers[:]:\n",
    "    layer.trainable=False\n",
    "\n",
    "# Create the custom model\n",
    "\n",
    "input = Input(shape=(IMG_WIDTH, IMG_HEIGHT, 3))\n",
    "custom_model = base_model(input)\n",
    "custom_model = GlobalAveragePooling2D()(custom_model)\n",
    "custom_model = Dense(64, activation=\"relu\")(custom_model)\n",
    "custom_model = Dropout(0.5)(custom_model)\n",
    "predictions = Dense(NUM_CLASSES, activation=\"softmax\")(custom_model)\n",
    "Model(inputs=input, outputs=predictions)\n",
    "\n",
    "# Compile the model\n",
    "\n",
    "model = custom_model\n",
    "model.compile(loss=\"categorical_crossentropy\",\n",
    "             optimizer=tf.train.Adam(lr=0.01),\n",
    "             metrics=[\"IoU\"])"
   ]
  },
  {
   "cell_type": "code",
   "execution_count": null,
   "metadata": {},
   "outputs": [],
   "source": []
  }
 ],
 "metadata": {
  "kernelspec": {
   "display_name": "Python 3 (ipykernel)",
   "language": "python",
   "name": "python3"
  },
  "language_info": {
   "codemirror_mode": {
    "name": "ipython",
    "version": 3
   },
   "file_extension": ".py",
   "mimetype": "text/x-python",
   "name": "python",
   "nbconvert_exporter": "python",
   "pygments_lexer": "ipython3",
   "version": "3.9.7"
  }
 },
 "nbformat": 4,
 "nbformat_minor": 4
}
